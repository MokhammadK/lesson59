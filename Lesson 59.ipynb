{
 "cells": [
  {
   "cell_type": "code",
   "execution_count": 1,
   "id": "26db1389",
   "metadata": {},
   "outputs": [],
   "source": [
    "import cv2"
   ]
  },
  {
   "cell_type": "code",
   "execution_count": 2,
   "id": "cdbad040",
   "metadata": {},
   "outputs": [],
   "source": [
    "def open_display_image(im_path):\n",
    "    im = cv2.imread(im_path)\n",
    "    \n",
    "    if im is None:\n",
    "        print(\"Error: Image not found or could not be opened\")\n",
    "        return None \n",
    "    \n",
    "    cv2.imshow(\"Loaded Image\", im)\n",
    "    cv2.waitKey(0)  \n",
    "    cv2.destroyAllWindows() "
   ]
  },
  {
   "cell_type": "code",
   "execution_count": 6,
   "id": "59ae0dc3",
   "metadata": {},
   "outputs": [],
   "source": [
    "image_path = \"C:\\\\Users\\\\Bruger\\\\Downloads\\\\cat.jpg\"\n",
    "\n",
    "open_display_image(image_path)"
   ]
  },
  {
   "cell_type": "code",
   "execution_count": 12,
   "id": "985d37b0",
   "metadata": {},
   "outputs": [],
   "source": [
    "import cv2\n",
    "import numpy as np\n",
    "\n",
    "def застосувати_фільтр_собеля(image_path):\n",
    "    зображення = cv2.imread(image_path)\n",
    "\n",
    "    if зображення is None:\n",
    "        print(\"Помилка: Неможливо зчитати зображення. Переконайтеся, що файл існує та містить коректне зображення.\")\n",
    "        return\n",
    "\n",
    "    собель_x = cv2.Sobel(зображення, cv2.CV_64F, 1, 0, ksize=5)  \n",
    "    собель_y = cv2.Sobel(зображення, cv2.CV_64F, 0, 1, ksize=5)  \n",
    "\n",
    "    градієнт_модуль = np.sqrt(собель_x**2 + собель_y**2)\n",
    "\n",
    "    градієнт_модуль_нормалізований = cv2.normalize(градієнт_модуль, None, 0, 255, cv2.NORM_MINMAX)\n",
    "\n",
    "    cv2.imshow('Оригінальне зображення', зображення)\n",
    "    cv2.imshow('Результат фільтра Собеля', np.uint8(градієнт_модуль_нормалізований))\n",
    "\n",
    "    cv2.waitKey(0)\n",
    "\n",
    "    cv2.destroyAllWindows()\n",
    "\n",
    "if __name__ == \"__main__\":\n",
    "    шлях_до_зображення = \"C:\\\\Users\\\\Bruger\\\\Downloads\\\\cat.jpg\"  \n",
    "    застосувати_фільтр_собеля(шлях_до_зображення)"
   ]
  },
  {
   "cell_type": "code",
   "execution_count": 11,
   "id": "f0ee5f42",
   "metadata": {},
   "outputs": [],
   "source": [
    "def apply_median_filter(image_path, kernel_size=3):\n",
    "    image = cv2.imread(image_path)\n",
    "\n",
    "    if image is None:\n",
    "        print(\"Помилка: Неможливо зчитати зображення. Переконайтеся, що файл існує та містить коректне зображення.\")\n",
    "        return\n",
    "\n",
    "    filtered_image = cv2.medianBlur(image, kernel_size)\n",
    "\n",
    "    cv2.imshow('Оригінальне зображення', image)\n",
    "    cv2.imshow('Результат медіанного фільтра', filtered_image)\n",
    "\n",
    "    cv2.waitKey(0)\n",
    "\n",
    "    cv2.destroyAllWindows()\n",
    "\n",
    "if __name__ == \"__main__\":\n",
    "    image_path = \"C:\\\\Users\\\\Bruger\\\\Downloads\\\\cat.jpg\"  \n",
    "    kernel_size = 3  # Define kernel_size here\n",
    "    apply_median_filter(image_path, kernel_size)"
   ]
  },
  {
   "cell_type": "code",
   "execution_count": null,
   "id": "82782126",
   "metadata": {},
   "outputs": [],
   "source": []
  }
 ],
 "metadata": {
  "kernelspec": {
   "display_name": "Python 3 (ipykernel)",
   "language": "python",
   "name": "python3"
  },
  "language_info": {
   "codemirror_mode": {
    "name": "ipython",
    "version": 3
   },
   "file_extension": ".py",
   "mimetype": "text/x-python",
   "name": "python",
   "nbconvert_exporter": "python",
   "pygments_lexer": "ipython3",
   "version": "3.11.3"
  }
 },
 "nbformat": 4,
 "nbformat_minor": 5
}
